{
 "cells": [
  {
   "cell_type": "markdown",
   "id": "ec8a7248",
   "metadata": {},
   "source": [
    "# Python Assignment Solution 9"
   ]
  },
  {
   "cell_type": "code",
   "execution_count": null,
   "id": "19e1f723",
   "metadata": {},
   "outputs": [],
   "source": [
    "1. To what does a relative path refer?\n",
    "Ans: Relative path shows current working directory path\n",
    "     for me it is: Python Basic Assignments\\Assignment_9.ipynb"
   ]
  },
  {
   "cell_type": "code",
   "execution_count": 3,
   "id": "4a242e2a",
   "metadata": {},
   "outputs": [
    {
     "data": {
      "text/plain": [
       "'Downloads/Assignment_9.docx'"
      ]
     },
     "execution_count": 3,
     "metadata": {},
     "output_type": "execute_result"
    }
   ],
   "source": [
    "import os\n",
    "path = '/Users/avhiraj/Downloads/Assignment_9.docx'\n",
    "os.path.relpath(path)"
   ]
  },
  {
   "cell_type": "code",
   "execution_count": null,
   "id": "3541e61f",
   "metadata": {},
   "outputs": [],
   "source": [
    "2. What does an absolute path start with your operating system?\n",
    "Ans: absolute path = pwd + relative path\n",
    "     absolute path always starts with rootdi directory"
   ]
  },
  {
   "cell_type": "code",
   "execution_count": 4,
   "id": "926f93ec",
   "metadata": {},
   "outputs": [
    {
     "data": {
      "text/plain": [
       "'/Users/avhiraj/Downloads/Assignment_9.docx'"
      ]
     },
     "execution_count": 4,
     "metadata": {},
     "output_type": "execute_result"
    }
   ],
   "source": [
    "os.path.abspath(path)"
   ]
  },
  {
   "cell_type": "markdown",
   "id": "19cd5845",
   "metadata": {},
   "source": [
    "3. What do the functions os.getcwd() and os.chdir() do?\n",
    "\n",
    "Ans: os.chdir() performs change directory\n",
    "    os.getcwd() gives current working directory"
   ]
  },
  {
   "cell_type": "markdown",
   "id": "07e32e8a",
   "metadata": {},
   "source": [
    "4. What are the . and .. folders?\n",
    "\n",
    "Ans:These are not real folder but are special names for path\n",
    "    (.) = this directory\n",
    "    (..)= parent directory\n",
    "\n",
    "5. In C:\\bacon\\eggs\\spam.txt, which part is the dir name, and which part is the base name?\n",
    "\n",
    "Ans: C:\\bacon\\eggs --> dir name\n",
    "\n",
    "     spam.txt --> base name\n",
    "\n",
    "6. What are the three “mode” arguments that can be passed to the open() function?\n",
    "\n",
    "Ans: Three mode arguments are:\n",
    "     1. 'r' --> open for reading in text mode.\n",
    "     2. 'w' --> open for writing.\n",
    "     3. 'a' --> open for appending.\n",
    "\n",
    "7. What happens if an existing file is opened in write mode?\n",
    "\n",
    "Ans:when an existing file is opened in write mode previous content is       erased and file is treated as new empty file.\n",
    "\n",
    "8. How do you tell the difference between read() and readlines()?\n",
    "\n",
    "Ans: read()      --> it iterates over each character.\n",
    "     readlines() --> read only single line of the file.\n",
    "\n",
    "9. What data structure does a shelf value resemble?\n",
    "\n",
    "Ans: As it contains key and values it represents dictionary."
   ]
  }
 ],
 "metadata": {
  "kernelspec": {
   "display_name": "Python 3 (ipykernel)",
   "language": "python",
   "name": "python3"
  },
  "language_info": {
   "codemirror_mode": {
    "name": "ipython",
    "version": 3
   },
   "file_extension": ".py",
   "mimetype": "text/x-python",
   "name": "python",
   "nbconvert_exporter": "python",
   "pygments_lexer": "ipython3",
   "version": "3.9.12"
  }
 },
 "nbformat": 4,
 "nbformat_minor": 5
}
